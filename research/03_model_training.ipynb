{
 "cells": [
  {
   "cell_type": "code",
   "execution_count": 13,
   "metadata": {},
   "outputs": [
    {
     "data": {
      "text/plain": [
       "'C:\\\\Users\\\\dell\\\\Documents\\\\GitHub\\\\Kidney-Tumor-Classification'"
      ]
     },
     "execution_count": 13,
     "metadata": {},
     "output_type": "execute_result"
    }
   ],
   "source": [
    "import os \n",
    "os.chdir(\"C://Users//dell//Documents//GitHub//Kidney-Tumor-Classification\")\n",
    "%pwd"
   ]
  },
  {
   "cell_type": "code",
   "execution_count": 14,
   "metadata": {},
   "outputs": [],
   "source": [
    "from dataclasses import dataclass\n",
    "from pathlib import Path\n",
    "\n",
    "@dataclass(frozen=True)\n",
    "class TrainingCongfig:\n",
    "    root_dir: Path\n",
    "    trained_model_path: Path\n",
    "    updated_base_model_path: Path\n",
    "    training_data: Path\n",
    "    params_epochs: int\n",
    "    params_batch_size: int\n",
    "    params_is_augumentation: bool\n",
    "    params_image_size: list"
   ]
  },
  {
   "cell_type": "code",
   "execution_count": 16,
   "metadata": {},
   "outputs": [],
   "source": [
    "import tensorflow as tf\n",
    "from kidneyClassifier import *\n",
    "from kidneyClassifier.constants import *\n",
    "from kidneyClassifier.utils.common import read_yaml, create_directories"
   ]
  },
  {
   "cell_type": "code",
   "execution_count": null,
   "metadata": {},
   "outputs": [],
   "source": [
    "class ConfigurationManager:\n",
    "    def __init__(\n",
    "            self,\n",
    "            config_filepath = Path(CONFIG_FILE_PATH),\n",
    "            params_filepath = Path(PARAMS_FILE_PATH)):\n",
    "                \n",
    "                self.config = read_yaml(config_filepath)\n",
    "                self.params = read_yaml(params_filepath)\n",
    "                \n",
    "                create_directories([self.config.artifacts_root])\n",
    "\n",
    "    def get_training_config(self)-> TrainingCongfig:\n",
    "            training = self.config.training\n",
    "            prepare_base_model = self.config.prepare_base_model\n",
    "            params = self.params\n",
    "            training_data = os.path.join(self.config.data_ingestion.unzip_dir, \"kidney_ctscan\")\n",
    "            create_directories([\n",
    "                Path(training.root_dir)\n",
    "            ])\n",
    "\n",
    "            training_config = TrainingCongfig(\n",
    "                    root_dir = Path(training.root_dir),\n",
    "                    trained_model_path=Path(training.trained_model_path),\n",
    "                    updated_base_model_path=Path(prepare_base_model.updated_base_model_path),\n",
    "                    training_data=Path(training_data),\n",
    "                    params_epochs=params.EPOCHS,\n",
    "                    params_batch_size=params.BATCH_SIZE,\n",
    "                    params_is_augumentation=params.AUGMENTATION,\n",
    "                    params_image_size=params.IMAGE_SIZE\n",
    "            )\n",
    "\n",
    "            return training_config"
   ]
  }
 ],
 "metadata": {
  "kernelspec": {
   "display_name": "kidney",
   "language": "python",
   "name": "python3"
  },
  "language_info": {
   "codemirror_mode": {
    "name": "ipython",
    "version": 3
   },
   "file_extension": ".py",
   "mimetype": "text/x-python",
   "name": "python",
   "nbconvert_exporter": "python",
   "pygments_lexer": "ipython3",
   "version": "3.11.9"
  }
 },
 "nbformat": 4,
 "nbformat_minor": 2
}
