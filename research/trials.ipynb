{
 "cells": [
  {
   "cell_type": "code",
   "execution_count": 1,
   "metadata": {},
   "outputs": [],
   "source": [
    "from box import ConfigBox\n",
    "\n",
    "# The above import makes dictionary behave and keys accessible like objects.\n",
    "# variable = ConfigBox({\"key\":\"val\",})"
   ]
  },
  {
   "cell_type": "code",
   "execution_count": 4,
   "metadata": {},
   "outputs": [],
   "source": [
    "from ensure import ensure_annotations\n",
    "\n",
    "# The above import makes sure that the parameter types are as defined in function declaration"
   ]
  },
  {
   "cell_type": "code",
   "execution_count": 7,
   "metadata": {},
   "outputs": [],
   "source": [
    "import gdown\n",
    "\n",
    "url=\"https://drive.google.com/file/d/1KyZAeUPvff1WmmRX_IfhRGkY5Ra1uSlW/view?usp=sharing\"\n",
    "file_id = url.split(\"/\")[-2]\n",
    "prefix = \"https://drive.google.com/uc?/export=download&id=\"\n",
    "\n",
    "gdown.download(prefix+file_id, \"data.zip\")"
   ]
  }
 ],
 "metadata": {
  "kernelspec": {
   "display_name": "Python 3",
   "language": "python",
   "name": "python3"
  },
  "language_info": {
   "codemirror_mode": {
    "name": "ipython",
    "version": 3
   },
   "file_extension": ".py",
   "mimetype": "text/x-python",
   "name": "python",
   "nbconvert_exporter": "python",
   "pygments_lexer": "ipython3",
   "version": "3.11.9"
  }
 },
 "nbformat": 4,
 "nbformat_minor": 2
}
